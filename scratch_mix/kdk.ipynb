{
 "cells": [
  {
   "cell_type": "code",
   "execution_count": 4,
   "metadata": {},
   "outputs": [],
   "source": [
    "pad = 0\n",
    "sos = 1\n",
    "eos = 2\n",
    "\n",
    "class Dictionary:\n",
    "    def __init__(self, name):\n",
    "        self.name = name\n",
    "        self.word2index = {}\n",
    "        self.word2count = {}\n",
    "        self.index2word = {PAD_TOKEN: \"PAD\", SOS_TOKEN: \"SOS\", EOS_TOKEN: \"EOS\"}\n",
    "        self.n_count = 3\n",
    "\n",
    "    def add_sentence(self, sentence):\n",
    "        for word in sentence.split(' '):\n",
    "            self.add_word(word)\n",
    "\n",
    "    def add_word(self, word):\n",
    "        if word not in self.word2index:\n",
    "            self.word2index[word] = self.n_count\n",
    "            self.word2count[word] = 1\n",
    "            self.index2word[self.n_count] = word \n",
    "            self.n_count += 1\n",
    "        else:\n",
    "            self.word2count[word] += 1"
   ]
  },
  {
   "cell_type": "code",
   "execution_count": 5,
   "metadata": {},
   "outputs": [
    {
     "ename": "SyntaxError",
     "evalue": "incomplete input (1395687073.py, line 4)",
     "output_type": "error",
     "traceback": [
      "\u001b[1;36m  Cell \u001b[1;32mIn[5], line 4\u001b[1;36m\u001b[0m\n\u001b[1;33m    class MultiHeadAttention(nn.Module):\u001b[0m\n\u001b[1;37m                                        ^\u001b[0m\n\u001b[1;31mSyntaxError\u001b[0m\u001b[1;31m:\u001b[0m incomplete input\n"
     ]
    }
   ],
   "source": [
    "import torch\n",
    "import torch.nn as nn\n",
    "\n",
    "                 \n",
    "class MultiHeadAttention(nn.Module):\n",
    "    def __init__(self, hidden_size, n_heads, dropout, device):\n",
    "        super().__init__()\n",
    "        \n",
    "        assert hidden_size % n_heads == 0\n",
    "        self.hidden_size = hidden_size\n",
    "        self.n_heads = n_heads\n",
    "        self.head_size = hidden_size // n_heads\n",
    "        \n",
    "        self.query = nn.Linear(hidden_size , hidden_size)\n",
    "        self.key = nn.Linear(hidden_size , hidden_size)\n",
    "        self.value = nn.Linear(hidden_size , hidden_size)\n",
    "        self.out = nn.Linear(hidden_size , hidden_size)\n",
    "        \n",
    "        self.dp = nn.Dropout(dropout)\n",
    "        \n",
    "        self.coefficient = torch.sqrt(torch.FloatTensor([self.head_size])).to(device)"
   ]
  }
 ],
 "metadata": {
  "kernelspec": {
   "display_name": "base",
   "language": "python",
   "name": "python3"
  },
  "language_info": {
   "codemirror_mode": {
    "name": "ipython",
    "version": 3
   },
   "file_extension": ".py",
   "mimetype": "text/x-python",
   "name": "python",
   "nbconvert_exporter": "python",
   "pygments_lexer": "ipython3",
   "version": "3.11.5"
  }
 },
 "nbformat": 4,
 "nbformat_minor": 2
}
