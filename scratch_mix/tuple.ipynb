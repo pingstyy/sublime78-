{
 "cells": [
  {
   "cell_type": "code",
   "execution_count": 30,
   "metadata": {},
   "outputs": [],
   "source": [
    "def uk(x):\n",
    "    print(x)\n",
    "    try:\n",
    "        # ix , out = x\n",
    "        print(  x[1])\n",
    "        print(x.Iin , x.out)\n",
    "    except Exception as e:\n",
    "        pass\n",
    "    print(\"Out\\n\")"
   ]
  },
  {
   "cell_type": "code",
   "execution_count": 9,
   "metadata": {},
   "outputs": [],
   "source": [
    "x = \"Things\"\n",
    "y = {\"Iin\": 55 , \"out\":45}"
   ]
  },
  {
   "cell_type": "code",
   "execution_count": 29,
   "metadata": {},
   "outputs": [
    {
     "name": "stdout",
     "output_type": "stream",
     "text": [
      "Things\n",
      "h\n",
      "Out\n",
      "\n",
      "{'Iin': 55, 'out': 45}\n",
      "Out\n",
      "\n"
     ]
    }
   ],
   "source": [
    "uk(x)\n",
    "uk(y)"
   ]
  }
 ],
 "metadata": {
  "kernelspec": {
   "display_name": "base",
   "language": "python",
   "name": "python3"
  },
  "language_info": {
   "codemirror_mode": {
    "name": "ipython",
    "version": 3
   },
   "file_extension": ".py",
   "mimetype": "text/x-python",
   "name": "python",
   "nbconvert_exporter": "python",
   "pygments_lexer": "ipython3",
   "version": "3.11.5"
  }
 },
 "nbformat": 4,
 "nbformat_minor": 2
}
